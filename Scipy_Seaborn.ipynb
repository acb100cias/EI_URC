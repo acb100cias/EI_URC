{
  "nbformat": 4,
  "nbformat_minor": 0,
  "metadata": {
    "colab": {
      "private_outputs": true,
      "provenance": [],
      "authorship_tag": "ABX9TyPwsnZnhe/xGwbwT5Lq6sgO",
      "include_colab_link": true
    },
    "kernelspec": {
      "name": "python3",
      "display_name": "Python 3"
    },
    "language_info": {
      "name": "python"
    }
  },
  "cells": [
    {
      "cell_type": "markdown",
      "metadata": {
        "id": "view-in-github",
        "colab_type": "text"
      },
      "source": [
        "<a href=\"https://colab.research.google.com/github/acb100cias/EI_URC/blob/main/Scipy_Seaborn.ipynb\" target=\"_parent\"><img src=\"https://colab.research.google.com/assets/colab-badge.svg\" alt=\"Open In Colab\"/></a>"
      ]
    },
    {
      "cell_type": "code",
      "execution_count": null,
      "metadata": {
        "id": "URtt1GQ67b5D"
      },
      "outputs": [],
      "source": [
        "  import scipy.stats as st"
      ]
    },
    {
      "cell_type": "code",
      "source": [
        "U=st.uniform.cdf(range(100000), loc=1, scale=4)"
      ],
      "metadata": {
        "id": "WGloY1zU8wL9"
      },
      "execution_count": null,
      "outputs": []
    },
    {
      "cell_type": "code",
      "source": [
        "B=st.binom.cdf(range(100000),n=100,p=0.5)"
      ],
      "metadata": {
        "id": "KQOsLIDN85yB"
      },
      "execution_count": null,
      "outputs": []
    },
    {
      "cell_type": "code",
      "source": [
        "st.describe(U)"
      ],
      "metadata": {
        "id": "9x61y5nZ-RFM"
      },
      "execution_count": null,
      "outputs": []
    },
    {
      "cell_type": "code",
      "source": [
        "st.describe(B)"
      ],
      "metadata": {
        "id": "4C5HSIoX-mWZ"
      },
      "execution_count": null,
      "outputs": []
    },
    {
      "cell_type": "code",
      "source": [
        "st.mode(B)"
      ],
      "metadata": {
        "id": "IpFJTcih--Fg"
      },
      "execution_count": null,
      "outputs": []
    },
    {
      "cell_type": "code",
      "source": [
        "import numpy.random as rd\n",
        "N1=rd.normal(size=10000000)\n",
        "st.describe(N1)\n"
      ],
      "metadata": {
        "id": "TTQ-Zw8H_dJv"
      },
      "execution_count": null,
      "outputs": []
    },
    {
      "cell_type": "code",
      "source": [
        "data=[0.02, 0.5,0.5,0.5, 0.01, 0.33, 0.51, 1.0, 0.03,0.01,0.01]\n",
        "st.describe(data)"
      ],
      "metadata": {
        "id": "5te86S7sApWd"
      },
      "execution_count": null,
      "outputs": []
    },
    {
      "cell_type": "code",
      "source": [
        "import seaborn as sb\n",
        "import pandas as pd"
      ],
      "metadata": {
        "id": "eGR8LftjBR1H"
      },
      "execution_count": null,
      "outputs": []
    },
    {
      "cell_type": "code",
      "source": [
        "N2=st.norm.rvs(size=10000000 )"
      ],
      "metadata": {
        "id": "jWjuVod9BmQJ"
      },
      "execution_count": null,
      "outputs": []
    },
    {
      "cell_type": "code",
      "source": [
        "sb.distplot(N2)"
      ],
      "metadata": {
        "id": "PYWWeGfDBx3e"
      },
      "execution_count": null,
      "outputs": []
    },
    {
      "cell_type": "code",
      "source": [
        "N3=st.norm.rvs(5,1,size=10000000)\n",
        "sb.distplot(N3)"
      ],
      "metadata": {
        "id": "BfJqDuWyB9CF"
      },
      "execution_count": null,
      "outputs": []
    },
    {
      "cell_type": "code",
      "source": [
        "sb.distplot(N2)\n",
        "sb.distplot(N3)"
      ],
      "metadata": {
        "id": "j_EykfSxC_v9"
      },
      "execution_count": null,
      "outputs": []
    },
    {
      "cell_type": "code",
      "source": [
        "B0=st.bernoulli.rvs(0.3,size=1000000)\n",
        "B1=st.bernoulli.rvs(0.5,size=1000000)\n",
        "B2=st.bernoulli.rvs(0.8,size=1000000)\n",
        "sb.distplot(B0)\n",
        "sb.distplot(B1)\n",
        "sb.distplot(B2)"
      ],
      "metadata": {
        "id": "WtS9k57CCs4T"
      },
      "execution_count": null,
      "outputs": []
    },
    {
      "cell_type": "code",
      "source": [
        "tips=sb.load_dataset('tips')"
      ],
      "metadata": {
        "id": "CNbquq0ZDw50"
      },
      "execution_count": null,
      "outputs": []
    },
    {
      "cell_type": "code",
      "source": [
        "type(tips)"
      ],
      "metadata": {
        "id": "BaON9rwyGkDY"
      },
      "execution_count": null,
      "outputs": []
    },
    {
      "cell_type": "code",
      "source": [
        "len(tips)"
      ],
      "metadata": {
        "id": "4ryvDRetGpcA"
      },
      "execution_count": null,
      "outputs": []
    },
    {
      "cell_type": "code",
      "source": [
        "tips.keys().values"
      ],
      "metadata": {
        "id": "cdMgR7TcHi08"
      },
      "execution_count": null,
      "outputs": []
    },
    {
      "cell_type": "code",
      "source": [
        "tips.describe()"
      ],
      "metadata": {
        "id": "NvghcXEpHxeY"
      },
      "execution_count": null,
      "outputs": []
    },
    {
      "cell_type": "code",
      "source": [
        "tips.tip.describe()"
      ],
      "metadata": {
        "id": "rdGj08e3H_2H"
      },
      "execution_count": null,
      "outputs": []
    },
    {
      "cell_type": "code",
      "source": [
        "tips.tip.median()"
      ],
      "metadata": {
        "id": "yUqNghG7IZ0o"
      },
      "execution_count": null,
      "outputs": []
    },
    {
      "cell_type": "code",
      "source": [
        "tips.tip.mode()"
      ],
      "metadata": {
        "id": "PhH6z7ZaIegh"
      },
      "execution_count": null,
      "outputs": []
    },
    {
      "cell_type": "code",
      "source": [
        "T1=tips.filter(['day','tip'])"
      ],
      "metadata": {
        "id": "COaA9MwGIi22"
      },
      "execution_count": null,
      "outputs": []
    },
    {
      "cell_type": "code",
      "source": [
        "sb.catplot(x='day',y='tip',data=T1)"
      ],
      "metadata": {
        "id": "MevUnFE3JCFR"
      },
      "execution_count": null,
      "outputs": []
    },
    {
      "cell_type": "code",
      "source": [
        "T2=tips.filter(['time','tip'])\n",
        "sb.catplot(T2,x='time',y='tip')"
      ],
      "metadata": {
        "id": "71hq-amJJC7Y"
      },
      "execution_count": null,
      "outputs": []
    },
    {
      "cell_type": "code",
      "source": [
        "import numpy as np\n",
        "ptip=np.round(tips.tip/tips.total_bill*100,2)"
      ],
      "metadata": {
        "id": "vl8SsvsFJXDF"
      },
      "execution_count": null,
      "outputs": []
    },
    {
      "cell_type": "code",
      "source": [
        "tips['ptip']=ptip"
      ],
      "metadata": {
        "id": "sT6STqiaLKoh"
      },
      "execution_count": null,
      "outputs": []
    },
    {
      "cell_type": "code",
      "source": [
        "tips"
      ],
      "metadata": {
        "id": "Wahrop4LLV5G"
      },
      "execution_count": null,
      "outputs": []
    },
    {
      "cell_type": "code",
      "source": [
        "T3=tips.filter(['day','time','ptip'])"
      ],
      "metadata": {
        "id": "8sRIuNi2L3WF"
      },
      "execution_count": null,
      "outputs": []
    },
    {
      "cell_type": "code",
      "source": [
        "sb.catplot(T3,x='day',y='ptip')\n",
        "sb.catplot(T3,x='time',y='ptip')"
      ],
      "metadata": {
        "id": "aH44XKaeMTYX"
      },
      "execution_count": null,
      "outputs": []
    },
    {
      "cell_type": "code",
      "source": [
        "T4=tips.filter(['smoker','sex','ptip'])"
      ],
      "metadata": {
        "id": "b1KoD0n0MXyA"
      },
      "execution_count": null,
      "outputs": []
    },
    {
      "cell_type": "code",
      "source": [
        "sb.catplot(T4,x='sex',y='ptip')\n",
        "sb.catplot(T4,x='smoker',y='ptip')"
      ],
      "metadata": {
        "id": "X2iSZ6USNhZi"
      },
      "execution_count": null,
      "outputs": []
    },
    {
      "cell_type": "code",
      "source": [
        "T5=tips.filter(['day','size','ptip'])\n",
        "sb.catplot(T5,x='size',y='ptip')"
      ],
      "metadata": {
        "id": "_i2By25fNoYw"
      },
      "execution_count": null,
      "outputs": []
    },
    {
      "cell_type": "code",
      "source": [
        "sb.catplot(tips,x='day',y='ptip',hue='time',kind='swarm')"
      ],
      "metadata": {
        "id": "uWhNRkFJOLLJ"
      },
      "execution_count": null,
      "outputs": []
    },
    {
      "cell_type": "code",
      "source": [],
      "metadata": {
        "id": "6nKQfmzeO4JC"
      },
      "execution_count": null,
      "outputs": []
    }
  ]
}
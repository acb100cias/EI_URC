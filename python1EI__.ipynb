{
  "nbformat": 4,
  "nbformat_minor": 0,
  "metadata": {
    "colab": {
      "private_outputs": true,
      "provenance": [],
      "authorship_tag": "ABX9TyNY7n1wApj3Di0kAgx/m85B",
      "include_colab_link": true
    },
    "kernelspec": {
      "name": "python3",
      "display_name": "Python 3"
    },
    "language_info": {
      "name": "python"
    }
  },
  "cells": [
    {
      "cell_type": "markdown",
      "metadata": {
        "id": "view-in-github",
        "colab_type": "text"
      },
      "source": [
        "<a href=\"https://colab.research.google.com/github/acb100cias/EI_URC/blob/main/python1EI__.ipynb\" target=\"_parent\"><img src=\"https://colab.research.google.com/assets/colab-badge.svg\" alt=\"Open In Colab\"/></a>"
      ]
    },
    {
      "cell_type": "code",
      "execution_count": null,
      "metadata": {
        "id": "puakBmMqm97i"
      },
      "outputs": [],
      "source": [
        "127816/8191"
      ]
    },
    {
      "cell_type": "code",
      "source": [
        "7162**171"
      ],
      "metadata": {
        "id": "A9wtgqXInYMv"
      },
      "execution_count": null,
      "outputs": []
    },
    {
      "cell_type": "code",
      "source": [
        "type(123)"
      ],
      "metadata": {
        "id": "6cW4ksnOnbuO"
      },
      "execution_count": null,
      "outputs": []
    },
    {
      "cell_type": "code",
      "source": [
        "type(1.)"
      ],
      "metadata": {
        "id": "56sDYnTXnnY9"
      },
      "execution_count": null,
      "outputs": []
    },
    {
      "cell_type": "code",
      "source": [
        "1/3"
      ],
      "metadata": {
        "id": "-hHxWKLpnq1-"
      },
      "execution_count": null,
      "outputs": []
    },
    {
      "cell_type": "code",
      "source": [
        "z=7272**0.5"
      ],
      "metadata": {
        "id": "fTkJ5pgSnxQ9"
      },
      "execution_count": null,
      "outputs": []
    },
    {
      "cell_type": "code",
      "source": [
        "A=\"no se escribir texto\""
      ],
      "metadata": {
        "id": "ZWdFv-uwn4Xu"
      },
      "execution_count": null,
      "outputs": []
    },
    {
      "cell_type": "code",
      "source": [
        "type(A)"
      ],
      "metadata": {
        "id": "kz1YJ-FZoBnO"
      },
      "execution_count": null,
      "outputs": []
    },
    {
      "cell_type": "code",
      "source": [
        "A.capitalize()"
      ],
      "metadata": {
        "id": "xp0CeOzAoGs9"
      },
      "execution_count": null,
      "outputs": []
    },
    {
      "cell_type": "code",
      "source": [
        "type(z)"
      ],
      "metadata": {
        "id": "lcOFvUxgoIp9"
      },
      "execution_count": null,
      "outputs": []
    },
    {
      "cell_type": "code",
      "source": [
        "L=[1,2,3,4,5,6,7,8,9]"
      ],
      "metadata": {
        "id": "guJrC-GeoPT9"
      },
      "execution_count": null,
      "outputs": []
    },
    {
      "cell_type": "code",
      "source": [
        "type(L)"
      ],
      "metadata": {
        "id": "VuyusrR2odh9"
      },
      "execution_count": null,
      "outputs": []
    },
    {
      "cell_type": "code",
      "source": [
        "import numpy as np"
      ],
      "metadata": {
        "id": "o9b1jUfBod79"
      },
      "execution_count": null,
      "outputs": []
    },
    {
      "cell_type": "code",
      "source": [
        "from numpy import *\n",
        "from matplotlib.pyplot import *"
      ],
      "metadata": {
        "id": "yunbtJSCo9o9"
      },
      "execution_count": null,
      "outputs": []
    },
    {
      "cell_type": "code",
      "source": [
        "l=np.array(L)"
      ],
      "metadata": {
        "id": "o5CQT8LIpCGN"
      },
      "execution_count": null,
      "outputs": []
    },
    {
      "cell_type": "code",
      "source": [
        "np.sqrt(l)"
      ],
      "metadata": {
        "id": "q2YtxVp0pEyt"
      },
      "execution_count": null,
      "outputs": []
    },
    {
      "cell_type": "code",
      "source": [
        "np.log(l)"
      ],
      "metadata": {
        "id": "rxR0AVXapK_9"
      },
      "execution_count": null,
      "outputs": []
    },
    {
      "cell_type": "code",
      "source": [
        "C=np.array(list(range(101)))**2"
      ],
      "metadata": {
        "id": "mO3znjqgpUpx"
      },
      "execution_count": null,
      "outputs": []
    },
    {
      "cell_type": "code",
      "source": [
        "plot(C)"
      ],
      "metadata": {
        "id": "owOEvDhVpimM"
      },
      "execution_count": null,
      "outputs": []
    },
    {
      "cell_type": "code",
      "source": [
        "A=np.arange(-1,1,0.001)"
      ],
      "metadata": {
        "id": "Q1zDZO_jp6_t"
      },
      "execution_count": null,
      "outputs": []
    },
    {
      "cell_type": "code",
      "source": [
        "CC=A**2"
      ],
      "metadata": {
        "id": "qrg43GuHqH6d"
      },
      "execution_count": null,
      "outputs": []
    },
    {
      "cell_type": "code",
      "source": [
        "plot(A,CC)"
      ],
      "metadata": {
        "id": "aSl8yakPqL5c"
      },
      "execution_count": null,
      "outputs": []
    },
    {
      "cell_type": "code",
      "source": [
        "plot(A,np.exp(A)+100)"
      ],
      "metadata": {
        "id": "1eqJMnVTqNCs"
      },
      "execution_count": null,
      "outputs": []
    },
    {
      "cell_type": "code",
      "source": [
        "B=arange(1,2,0.001)"
      ],
      "metadata": {
        "id": "3QYzZLxMqYIc"
      },
      "execution_count": null,
      "outputs": []
    },
    {
      "cell_type": "code",
      "source": [
        "ll=np.log(B)"
      ],
      "metadata": {
        "id": "8-w3P2U4qkdN"
      },
      "execution_count": null,
      "outputs": []
    },
    {
      "cell_type": "code",
      "source": [
        "plot(B,ll)"
      ],
      "metadata": {
        "id": "oX4qjqyVqo9t"
      },
      "execution_count": null,
      "outputs": []
    },
    {
      "cell_type": "code",
      "source": [
        "def f(x):\n",
        "  return x**5+2*x**2+1"
      ],
      "metadata": {
        "id": "XI0eNP4QqrlN"
      },
      "execution_count": null,
      "outputs": []
    },
    {
      "cell_type": "code",
      "source": [
        "plot(A,f(A))"
      ],
      "metadata": {
        "id": "OBocn7t2q3Ot"
      },
      "execution_count": null,
      "outputs": []
    },
    {
      "cell_type": "code",
      "source": [
        "R1=np.random.random(1000000)"
      ],
      "metadata": {
        "id": "WmnnHUw_q4Zd"
      },
      "execution_count": null,
      "outputs": []
    },
    {
      "cell_type": "code",
      "source": [
        "hist(R1)"
      ],
      "metadata": {
        "id": "mQI1bFu6rM-c"
      },
      "execution_count": null,
      "outputs": []
    },
    {
      "cell_type": "code",
      "source": [
        "V=[0,1]\n",
        "v=np.random.choice(V,10000000)"
      ],
      "metadata": {
        "id": "TDq0k3rSsVMs"
      },
      "execution_count": null,
      "outputs": []
    },
    {
      "cell_type": "code",
      "source": [
        "hist(v)"
      ],
      "metadata": {
        "id": "H6NlNXzbtjcb"
      },
      "execution_count": null,
      "outputs": []
    },
    {
      "cell_type": "code",
      "source": [
        "V=[\"aguila\",\"sol\"]\n",
        "v=np.random.choice(V,10000000)"
      ],
      "metadata": {
        "id": "xdQDa1tMtuOs"
      },
      "execution_count": null,
      "outputs": []
    },
    {
      "cell_type": "code",
      "source": [
        "hist(v)"
      ],
      "metadata": {
        "id": "bzLXYwhOuBec"
      },
      "execution_count": null,
      "outputs": []
    },
    {
      "cell_type": "code",
      "source": [
        "D=[1,2,3,4,5,6]\n",
        "d=random.choice(D,10000000)\n",
        "hist(d)"
      ],
      "metadata": {
        "id": "apDna8ZruEdc"
      },
      "execution_count": null,
      "outputs": []
    },
    {
      "cell_type": "code",
      "source": [
        "np.random.choice(,1000000)"
      ],
      "metadata": {
        "id": "tmvOpmikuf3L"
      },
      "execution_count": null,
      "outputs": []
    },
    {
      "cell_type": "code",
      "source": [
        "D=[2,3,4,5,6,7,8,9,10,11,12]\n",
        "d=random.choice(D,10000000)\n",
        "hist(d)"
      ],
      "metadata": {
        "id": "JZnOQayLuVB8"
      },
      "execution_count": null,
      "outputs": []
    },
    {
      "cell_type": "code",
      "source": [
        "D=[1,2,3,4,5,6]\n",
        "P=[]\n",
        "for i in D:\n",
        "  for j in D:\n",
        "    P.append((i,j))"
      ],
      "metadata": {
        "id": "9NxLmwA_u2eL"
      },
      "execution_count": null,
      "outputs": []
    },
    {
      "cell_type": "code",
      "source": [
        "d1=random.choice(P,10000000)"
      ],
      "metadata": {
        "id": "Y9FTWgrIvPMr"
      },
      "execution_count": null,
      "outputs": []
    },
    {
      "cell_type": "code",
      "source": [
        "E1=np.random.exponential(3,1000000)\n",
        "E2=np.random.exponential(1,1000000)\n",
        "E3=np.random.exponential(0.5,1000000)"
      ],
      "metadata": {
        "id": "YLz6fQ4svbut"
      },
      "execution_count": null,
      "outputs": []
    },
    {
      "cell_type": "code",
      "source": [
        "hist(E1,bins=40,label=r'$\\lambda$=3')\n",
        "hist(E2,bins=40,label=r'$\\lambda$=1')\n",
        "hist(E3,bins=40,label=r'$\\lambda$=0.5')\n",
        "legend()"
      ],
      "metadata": {
        "id": "HBg54plHzAVq"
      },
      "execution_count": null,
      "outputs": []
    },
    {
      "cell_type": "code",
      "source": [
        "np.mean(E3)"
      ],
      "metadata": {
        "id": "6hAZgxN5zUFq"
      },
      "execution_count": null,
      "outputs": []
    },
    {
      "cell_type": "code",
      "source": [
        "np.median(E2)"
      ],
      "metadata": {
        "id": "GO3AFNnJ0I1K"
      },
      "execution_count": null,
      "outputs": []
    },
    {
      "cell_type": "code",
      "source": [
        "np.var(E3)"
      ],
      "metadata": {
        "id": "bkHoVIaj0SP6"
      },
      "execution_count": null,
      "outputs": []
    },
    {
      "cell_type": "code",
      "source": [
        "np.std(E3)"
      ],
      "metadata": {
        "id": "ZbnCBPR00Wha"
      },
      "execution_count": null,
      "outputs": []
    },
    {
      "cell_type": "code",
      "source": [
        "N1=np.random.normal(0,1,1000000)\n",
        "N2=np.random.normal(0,10,1000000)\n",
        "N3=np.random.normal(0,0.3,1000000)\n",
        "hist(N1,bins=1000,alpha=0.5)\n",
        "hist(N2,bins=1000,alpha=0.5)\n",
        "hist(N3,bins=1000,alpha=0.5)"
      ],
      "metadata": {
        "id": "gqHO4q6K0dMq"
      },
      "execution_count": null,
      "outputs": []
    },
    {
      "cell_type": "code",
      "source": [
        "B1=np.random.binomial(10,0.5,1000000)"
      ],
      "metadata": {
        "id": "agMD4gG90tca"
      },
      "execution_count": null,
      "outputs": []
    },
    {
      "cell_type": "code",
      "source": [
        "hist(B1)"
      ],
      "metadata": {
        "id": "jLGx3vNp2CBp"
      },
      "execution_count": null,
      "outputs": []
    },
    {
      "cell_type": "code",
      "source": [
        "G1=np.random.geometric(0.5,1000000)"
      ],
      "metadata": {
        "id": "-sH0k8oI2D85"
      },
      "execution_count": null,
      "outputs": []
    },
    {
      "cell_type": "code",
      "source": [
        "hist(G1,bins=100)"
      ],
      "metadata": {
        "id": "mhZ-pB2p2RSK"
      },
      "execution_count": null,
      "outputs": []
    },
    {
      "cell_type": "code",
      "source": [
        "ga=np.random.gamma(1,10,1000000)"
      ],
      "metadata": {
        "id": "Wt5u4xjg2Saq"
      },
      "execution_count": null,
      "outputs": []
    },
    {
      "cell_type": "code",
      "source": [
        "hist(ga,bins=100)"
      ],
      "metadata": {
        "id": "5qtqbUT02otZ"
      },
      "execution_count": null,
      "outputs": []
    },
    {
      "cell_type": "code",
      "source": [
        "P1=np.random.power(0.4,1000000)\n",
        "hist(P1,bins=100)"
      ],
      "metadata": {
        "id": "KcEqGTIV2qVK"
      },
      "execution_count": null,
      "outputs": []
    },
    {
      "cell_type": "code",
      "source": [
        "\n",
        "hist(np.random.pareto(1,1000000))"
      ],
      "metadata": {
        "id": "fpiA0UmO3Ga4"
      },
      "execution_count": null,
      "outputs": []
    },
    {
      "cell_type": "code",
      "source": [
        "hist(np.random.zipf(1.1,10))"
      ],
      "metadata": {
        "id": "9h7hmj3z3x9J"
      },
      "execution_count": null,
      "outputs": []
    },
    {
      "cell_type": "markdown",
      "source": [],
      "metadata": {
        "id": "bHgfXYO142Qq"
      }
    },
    {
      "cell_type": "code",
      "source": [],
      "metadata": {
        "id": "tVY4FhEA4RRp"
      },
      "execution_count": null,
      "outputs": []
    }
  ]
}
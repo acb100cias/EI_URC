{
 "cells": [
  {
   "cell_type": "code",
   "execution_count": 1,
   "id": "964d0c43-d202-42f7-a8db-48ee99f4d419",
   "metadata": {},
   "outputs": [],
   "source": [
    "import numpy as np\n",
    "import matplotlib.pyplot as plt\n",
    "import scipy.stats as st\n",
    "from scipy.optimize import minimize"
   ]
  },
  {
   "cell_type": "code",
   "execution_count": 2,
   "id": "968a0a92-bf16-499f-9d7c-8b22932acb03",
   "metadata": {},
   "outputs": [],
   "source": [
    "np.random.seed(42)\n"
   ]
  },
  {
   "cell_type": "code",
   "execution_count": 3,
   "id": "e83ab870-da6b-4081-83ac-5012a809f064",
   "metadata": {},
   "outputs": [],
   "source": [
    "lambda_=5\n",
    "data = np.random.poisson(lambda_,1000)"
   ]
  },
  {
   "cell_type": "code",
   "execution_count": 4,
   "id": "455e8bfc-bf8c-4aa6-a95a-c220aa587da5",
   "metadata": {},
   "outputs": [
    {
     "data": {
      "text/plain": [
       "array([ 5,  4,  4,  5,  5,  3,  5,  4,  6,  7,  2,  5,  5,  6,  4,  6,  6,\n",
       "        1,  7,  2, 11,  4,  3,  8,  3,  3,  5,  8,  3,  2,  5,  3,  8, 10,\n",
       "        3,  2,  5,  7,  6,  6,  2,  4,  9,  7, 11,  8,  3,  2,  3,  4,  5,\n",
       "        5,  4,  3,  8,  2,  1,  4,  5,  4,  3,  4,  8,  2,  2,  2,  7,  6,\n",
       "        7,  6,  7,  6,  4,  2,  3,  4,  7,  4,  3,  2,  6,  3,  5,  9,  6,\n",
       "        6,  9,  4,  9,  2, 10,  6,  9,  4,  1,  6,  8,  6,  2,  3,  5,  3,\n",
       "        3,  5,  6,  5,  3,  5,  3,  3,  6,  5,  6,  2,  4,  7,  6,  5,  4,\n",
       "        3,  3,  7,  7,  6,  6,  7,  8,  6,  3,  7,  5,  5,  7,  4,  9,  4,\n",
       "        5,  2,  6,  3,  6,  2,  3,  5,  3,  4,  5,  6,  3,  3,  4,  5,  4,\n",
       "        2,  6,  6,  8,  1,  6,  2,  5,  2,  6,  4,  3,  5,  6,  3,  4,  8,\n",
       "        4, 10,  4,  5, 10,  3,  4,  7,  5, 10,  4,  2,  3,  5,  8,  4,  3,\n",
       "        8,  6,  8,  3,  3,  5, 11,  7,  4,  3,  8,  8,  3,  3,  6,  2,  7,\n",
       "        5,  5,  6,  1, 10,  2,  5,  4,  5,  4,  5,  6,  1,  3,  2,  5,  4,\n",
       "        7,  7,  2,  6,  7,  2,  7,  5,  7,  6,  5,  6,  5,  4,  7,  1,  8,\n",
       "        4,  5,  3,  7,  2,  5, 10,  7,  7, 10,  1,  5,  3,  8,  7,  3,  1,\n",
       "        5,  3,  6,  3,  4,  5,  8,  7,  5,  4,  6,  8,  4,  3,  2,  3,  9,\n",
       "        5,  4,  7,  8,  4,  4,  8,  5,  5,  6,  7,  2,  1,  7,  5,  4,  4,\n",
       "        3,  8,  7,  1,  2,  4,  6,  4,  6,  8,  7,  5,  2,  1,  7,  4,  1,\n",
       "        6,  5,  8,  5,  4, 10,  7,  4,  8,  5,  5,  5,  2,  3,  4,  9,  0,\n",
       "        5,  5,  5,  5,  4,  9,  6,  2,  6,  6,  6,  5,  2,  5,  3,  3,  3,\n",
       "        6,  6,  4,  5,  5,  7,  5,  3,  4,  7,  5,  7,  8,  7,  5,  8,  4,\n",
       "        6,  8,  6,  3,  8,  4,  7,  2, 10,  6,  4,  5,  6,  4,  5,  6,  3,\n",
       "        7,  7,  8,  4,  7,  3,  4,  4,  0,  1,  1,  7,  5,  5,  8,  3,  5,\n",
       "        3,  5,  1,  7,  2,  4,  6,  7,  9,  4,  1,  4,  6,  3,  4,  2,  6,\n",
       "        8,  7,  2,  6,  9,  3,  8,  7,  6, 10,  5,  5,  5,  5,  4, 10,  3,\n",
       "        2,  6,  4,  4,  8,  5,  4,  7,  4,  2,  2,  3,  3,  8,  6,  0,  8,\n",
       "        5,  4,  5,  7,  6,  3,  4,  2,  4,  1,  9,  3,  1,  5,  4,  6,  5,\n",
       "        8,  5,  7,  4,  1,  5,  4,  3,  2, 12,  5, 10,  6,  1,  6,  2,  4,\n",
       "        5,  8,  4,  2,  1,  8,  8,  4,  1,  9,  4,  2,  4,  3,  8,  9,  4,\n",
       "        4,  5, 11,  8,  6,  2,  8,  7,  6,  5,  3,  5,  3,  3,  7,  4,  4,\n",
       "        6,  6,  3,  4,  6,  6,  6,  6,  3,  5,  2,  5,  3,  3,  5, 11,  7,\n",
       "        7,  4,  1,  4,  5,  4,  4,  7,  6,  8,  4,  3,  0,  4,  1,  4,  3,\n",
       "        5,  6,  6,  4,  4,  5,  1,  9,  7,  5,  4,  5,  4,  1,  3,  7,  6,\n",
       "       10,  4,  5,  6,  6,  8,  4,  3,  3,  9,  7,  2,  2,  4,  6,  9, 11,\n",
       "        4,  7,  7,  3,  7,  5,  2,  9,  6,  3,  6,  3,  2,  8,  4,  5,  4,\n",
       "        3,  4,  3, 11,  6,  5,  5,  5,  3,  6,  4,  5,  3,  7,  3,  6,  7,\n",
       "        1,  6,  4,  2,  2,  5,  5,  3,  5, 11,  2,  6,  5,  3,  4, 10,  1,\n",
       "        8,  3,  5,  4, 11,  3,  4,  3,  3,  8,  1,  5,  7,  3,  7,  5,  7,\n",
       "        5,  7,  5,  4,  5, 11,  7,  6,  3,  0, 10,  5,  5,  3,  4,  2,  2,\n",
       "        7,  3,  1,  3,  7,  5,  5,  4,  5,  5,  3,  3,  6,  6,  4,  9,  6,\n",
       "        5,  5,  4, 10,  6,  2,  4,  3,  2,  5,  6,  5, 10,  5,  5,  4,  4,\n",
       "        3,  6,  4,  2,  9,  5,  9,  5,  5,  1,  5,  8,  6,  2,  5,  5,  4,\n",
       "        6,  5,  6,  5,  4,  7,  5,  7,  6,  4,  8,  4,  3,  5, 10,  6,  4,\n",
       "        3,  3,  5,  2,  6,  2,  5,  2,  6,  3,  5,  2,  6,  6,  7,  6,  6,\n",
       "        4,  4,  7,  5,  5,  8,  4,  2,  3,  4,  6,  9,  3,  5,  3,  2,  4,\n",
       "        9,  4,  5,  8,  8,  5,  3,  9,  2,  8,  7,  6,  9,  3,  6,  7,  7,\n",
       "        5,  5,  1,  7,  4,  7,  5,  5,  3,  5,  5,  4,  3,  3,  5, 10,  2,\n",
       "        5,  3,  4,  6,  3,  4,  4,  5,  8,  5,  6,  3,  4,  5,  6,  7,  5,\n",
       "        2,  6,  4,  2,  4,  2,  3,  4,  7,  5,  5,  7,  9,  7,  6,  6,  9,\n",
       "        2,  3,  9,  3,  8,  5,  4,  9,  2,  5, 10,  5,  4,  7,  3,  6,  3,\n",
       "        3,  4,  1,  2,  4,  5,  8,  7,  7,  2,  6,  8,  6,  4,  4,  4,  1,\n",
       "        6,  8,  7,  7,  6,  6,  4,  3,  6,  3, 10,  5,  6,  6,  4,  6,  5,\n",
       "        3,  2,  3,  2,  8,  7,  4,  3,  3,  6,  5,  1,  8,  9,  4,  7,  3,\n",
       "        7,  5,  6,  8,  2,  4,  9,  4,  4,  3,  4,  4,  6,  7,  3,  6,  8,\n",
       "        7,  3,  4,  6,  8,  3,  4,  3,  8,  1,  3,  7,  5,  9,  5,  4,  5,\n",
       "        7,  3,  6,  7,  4,  4,  4,  3,  4,  2,  7,  6,  7,  5,  4,  5,  4,\n",
       "        7,  5,  6,  5,  2,  4,  4,  6, 11,  6,  8,  5,  3,  5,  1,  8,  6,\n",
       "        4,  7,  1,  7,  3,  9,  4,  2,  4,  6,  2,  1,  7,  7,  6,  8,  7,\n",
       "        5,  6,  6,  7,  6,  3,  3,  1,  5,  3,  9,  8,  4,  2])"
      ]
     },
     "execution_count": 4,
     "metadata": {},
     "output_type": "execute_result"
    }
   ],
   "source": [
    "data"
   ]
  },
  {
   "cell_type": "code",
   "execution_count": 8,
   "id": "ed7cb1aa-48f0-44ac-87f4-2d5cfa9b042a",
   "metadata": {},
   "outputs": [],
   "source": [
    "from math import factorial\n",
    "def vero_poisson(l,d):\n",
    "    vero=np.sum(data*np.log(l) - l-np.log([factorial(x) for x in data]))\n",
    "    return vero            "
   ]
  },
  {
   "cell_type": "code",
   "execution_count": 9,
   "id": "bf891cc3-77ed-43cd-8398-88cad4debb3b",
   "metadata": {},
   "outputs": [],
   "source": [
    "emv_r=minimize(lambda params: -vero_poisson(params[0],data),x0=[1])"
   ]
  },
  {
   "cell_type": "code",
   "execution_count": 11,
   "id": "c40171f1-06fd-4a77-9516-c23c0fc1c5d9",
   "metadata": {},
   "outputs": [
    {
     "data": {
      "text/plain": [
       "  message: Optimization terminated successfully.\n",
       "  success: True\n",
       "   status: 0\n",
       "      fun: 2207.434459724971\n",
       "        x: [ 4.985e+00]\n",
       "      nit: 9\n",
       "      jac: [ 0.000e+00]\n",
       " hess_inv: [[ 4.983e-03]]\n",
       "     nfev: 20\n",
       "     njev: 10"
      ]
     },
     "execution_count": 11,
     "metadata": {},
     "output_type": "execute_result"
    }
   ],
   "source": [
    "emv_r"
   ]
  },
  {
   "cell_type": "code",
   "execution_count": 15,
   "id": "78104514-dedd-4e95-b752-4a724eb443a1",
   "metadata": {},
   "outputs": [],
   "source": [
    "#lambda obtenida por máxima verosimilitud\n",
    "l_mv=emv_r.x[0]"
   ]
  },
  {
   "cell_type": "code",
   "execution_count": 16,
   "id": "65707700-893e-43e1-8bc7-bafc5fbbd579",
   "metadata": {},
   "outputs": [
    {
     "data": {
      "text/plain": [
       "np.float64(4.9850000010215485)"
      ]
     },
     "execution_count": 16,
     "metadata": {},
     "output_type": "execute_result"
    }
   ],
   "source": [
    "l_mv"
   ]
  },
  {
   "cell_type": "code",
   "execution_count": 19,
   "id": "4f40ee19-3221-4988-b80c-0276f8f6664a",
   "metadata": {},
   "outputs": [],
   "source": [
    "#media muestral\n",
    "mm=np.mean(data)\n",
    "\n",
    "\n",
    "\n"
   ]
  },
  {
   "cell_type": "code",
   "execution_count": 20,
   "id": "1d534dcb-8c74-4609-9200-edf11949144c",
   "metadata": {},
   "outputs": [
    {
     "data": {
      "text/plain": [
       "np.float64(1.0215481793807157e-09)"
      ]
     },
     "execution_count": 20,
     "metadata": {},
     "output_type": "execute_result"
    }
   ],
   "source": [
    "l_mv-mm"
   ]
  },
  {
   "cell_type": "code",
   "execution_count": 21,
   "id": "a66b1fc8-0223-46e4-bf9d-14bc1caf544a",
   "metadata": {},
   "outputs": [],
   "source": [
    "lv= np.linspace(0.1,10,100)\n",
    "vero_v=[vero_poisson(l,data)for l in lv]"
   ]
  },
  {
   "cell_type": "code",
   "execution_count": 24,
   "id": "2e916488-ac71-4aa5-82f0-5669dc152261",
   "metadata": {},
   "outputs": [
    {
     "data": {
      "text/plain": [
       "<matplotlib.collections.PathCollection at 0x7f275f134e00>"
      ]
     },
     "execution_count": 24,
     "metadata": {},
     "output_type": "execute_result"
    },
    {
     "data": {
      "image/png": "[encoded data removed]",
      "text/plain": [
       "<Figure size 1000x600 with 1 Axes>"
      ]
     },
     "metadata": {},
     "output_type": "display_data"
    }
   ],
   "source": [
    "plt.figure(figsize=(10,6))\n",
    "plt.plot(lv,vero_v,label='función de verosimilitud')\n",
    "plt.scatter([l_mv],[vero_poisson(l_mv,data)],color='red')"
   ]
  },
  {
   "cell_type": "code",
   "execution_count": 26,
   "id": "18e2d8be-2873-4797-954c-722a21d2c046",
   "metadata": {},
   "outputs": [],
   "source": [
    "####NORMAL\n",
    "data=np.random.normal(loc=5,scale=2,size=1000)\n",
    "\n",
    "\n",
    "\n"
   ]
  },
  {
   "cell_type": "code",
   "execution_count": 27,
   "id": "775ffcec-9bcd-4e2b-a5fe-63c2f849db4b",
   "metadata": {},
   "outputs": [],
   "source": [
    "media_mv=np.mean(data)\n",
    "std_mv=np.std(data,ddof=0)"
   ]
  },
  {
   "cell_type": "code",
   "execution_count": 29,
   "id": "50042052-3c59-4248-9070-047495485aba",
   "metadata": {},
   "outputs": [
    {
     "data": {
      "text/plain": [
       "np.float64(2.1009475378700904)"
      ]
     },
     "execution_count": 29,
     "metadata": {},
     "output_type": "execute_result"
    }
   ],
   "source": [
    "std_mv"
   ]
  },
  {
   "cell_type": "code",
   "execution_count": 30,
   "id": "3ac6a530-f195-426f-930d-4360e3b628e5",
   "metadata": {},
   "outputs": [],
   "source": [
    "\n",
    "def vero_normal(mean,std,data):\n",
    "   return np.sum(st.norm.logpdf(data,loc=mean,scale=std)) "
   ]
  },
  {
   "cell_type": "code",
   "execution_count": 36,
   "id": "710562cc-9864-4636-8d67-3f083fb2b682",
   "metadata": {},
   "outputs": [],
   "source": [
    "mu_0=0\n",
    "tau=10\n",
    "alpha=1\n",
    "beta=1"
   ]
  },
  {
   "cell_type": "code",
   "execution_count": 40,
   "id": "56f98b90-2b77-4864-a649-80d4b072aebd",
   "metadata": {},
   "outputs": [],
   "source": [
    "def log_pre(mean,std):\n",
    "    log_pre_mu=st.norm.logpdf(mean,loc=mu_0,scale=tau) \n",
    "    log_pre_sigma=st.invgamma.logpdf(std,a=alpha,scale=beta)\n",
    "    return log_pre_mu+log_pre_sigma\n",
    "def log_pos(mean,std,data):\n",
    "    return vero_normal(mean,std,data)+log_pre(mean,std)"
   ]
  },
  {
   "cell_type": "code",
   "execution_count": 41,
   "id": "e5b94e25-33c8-4582-979a-99db1870effa",
   "metadata": {},
   "outputs": [],
   "source": [
    "emv=vero_normal(media_mv,std_mv,data)"
   ]
  },
  {
   "cell_type": "code",
   "execution_count": 42,
   "id": "63fffd0c-ba78-4920-be16-96dbd80a57ac",
   "metadata": {},
   "outputs": [],
   "source": [
    "emv_pos=log_pos(media_mv,std_mv,data)"
   ]
  },
  {
   "cell_type": "markdown",
   "id": "4ad55daa-0db2-4ada-ad81-d5394370fc70",
   "metadata": {},
   "source": []
  },
  {
   "cell_type": "code",
   "execution_count": 44,
   "id": "1f6aa25c-04df-4974-9b42-8dd0f965eaa3",
   "metadata": {},
   "outputs": [
    {
     "data": {
      "text/plain": [
       "np.float64(-5.3012932367960275)"
      ]
     },
     "execution_count": 44,
     "metadata": {},
     "output_type": "execute_result"
    }
   ],
   "source": [
    "emv_pos-emv"
   ]
  },
  {
   "cell_type": "code",
   "execution_count": 46,
   "id": "b7506661-0625-4d98-9ccf-adc2eb502c01",
   "metadata": {},
   "outputs": [],
   "source": [
    "medias=np.linspace(4,6,100)\n",
    "stds=np.linspace(1,3,100)\n",
    "veros=np.zeros((len(medias),len(stds)))\n",
    "posts=np.zeros((len(medias),len(stds)))"
   ]
  },
  {
   "cell_type": "code",
   "execution_count": 48,
   "id": "0ad6a3fd-5447-40a9-bc92-4aabe226caf6",
   "metadata": {},
   "outputs": [],
   "source": [
    "for i ,m in enumerate(medias):\n",
    "    for j, s in enumerate(stds):\n",
    "        veros[i,j]=vero_normal(m,s,data)\n",
    "        posts[i,j]=log_pos(m,s,data)"
   ]
  },
  {
   "cell_type": "code",
   "execution_count": 51,
   "id": "284019bc-d257-4911-9755-e3db62f4f31f",
   "metadata": {},
   "outputs": [
    {
     "data": {
      "image/png": "[encoded data removed]",
      "text/plain": [
       "<Figure size 640x480 with 4 Axes>"
      ]
     },
     "metadata": {},
     "output_type": "display_data"
    }
   ],
   "source": [
    "plt.subplot(1, 2, 1)\n",
    "X, Y = np.meshgrid(medias, stds)\n",
    "Z = veros.T  # Transpose to align the axes correctly\n",
    "plt.contourf(X, Y, Z, levels=50, cmap='viridis')\n",
    "plt.colorbar(label='Log-Likelihood')\n",
    "plt.scatter(media_mv, std_mv, color='red', label='MLE (mean, std)', zorder=5)\n",
    "plt.xlabel('Mean')\n",
    "plt.ylabel('Standard Deviation')\n",
    "plt.title('Log-Likelihood Function')\n",
    "plt.legend()\n",
    "\n",
    "# Plot log-posterior\n",
    "plt.subplot(1, 2, 2)\n",
    "Z = posts.T  # Transpose to align the axes correctly\n",
    "plt.contourf(X, Y, Z, levels=50, cmap='viridis')\n",
    "plt.colorbar(label='Log-Posterior')\n",
    "plt.scatter(media_mv, std_mv, color='red', label='MLE (mean, std)', zorder=5)\n",
    "plt.xlabel('Mean')\n",
    "plt.ylabel('Standard Deviation')\n",
    "plt.title('Log-Posterior Distribution')\n",
    "plt.legend()\n",
    "\n",
    "plt.tight_layout()\n",
    "plt.show()"
   ]
  },
  {
   "cell_type": "code",
   "execution_count": 53,
   "id": "6482861c-0036-4321-9499-7db26110d862",
   "metadata": {},
   "outputs": [],
   "source": [
    "#intervalos de confianza\n",
    "\n",
    "\n",
    "d = [12, 15, 14, 10, 13, 17, 14, 15, 16, 14]\n",
    "cl=0.95"
   ]
  },
  {
   "cell_type": "code",
   "execution_count": 54,
   "id": "4ac47981-8e22-4247-8f94-4b9a607342ec",
   "metadata": {},
   "outputs": [],
   "source": [
    "intervalo=st.t.interval(cl,df=len(d)-1,loc=np.mean(d),scale=np.std(d,ddof=1))/np.sqrt(len(d))"
   ]
  },
  {
   "cell_type": "code",
   "execution_count": 55,
   "id": "394c1d77-0af6-4144-bd70-9466a4aad41e",
   "metadata": {},
   "outputs": [
    {
     "data": {
      "text/plain": [
       "array([2.99647491, 5.85790254])"
      ]
     },
     "execution_count": 55,
     "metadata": {},
     "output_type": "execute_result"
    }
   ],
   "source": [
    "intervalo"
   ]
  },
  {
   "cell_type": "code",
   "execution_count": 56,
   "id": "9e1dc60b-d788-4949-abe9-e7880df6a9e6",
   "metadata": {},
   "outputs": [],
   "source": [
    "intervalo=st.t.interval(cl,df=len(data)-1,loc=np.mean(data),scale=np.std(data,ddof=1))/np.sqrt(len(data))"
   ]
  },
  {
   "cell_type": "code",
   "execution_count": 57,
   "id": "207a4a1a-04cc-403b-a89d-b46e2fbc078a",
   "metadata": {},
   "outputs": [
    {
     "data": {
      "text/plain": [
       "array([0.02384463, 0.28472238])"
      ]
     },
     "execution_count": 57,
     "metadata": {},
     "output_type": "execute_result"
    }
   ],
   "source": [
    "intervalo"
   ]
  },
  {
   "cell_type": "code",
   "execution_count": null,
   "id": "717e45b0-c57e-497f-a25c-6ea4b05cfbce",
   "metadata": {},
   "outputs": [],
   "source": []
  }
 ],
 "metadata": {
  "kernelspec": {
   "display_name": "Python 3 (ipykernel)",
   "language": "python",
   "name": "python3"
  },
  "language_info": {
   "codemirror_mode": {
    "name": "ipython",
    "version": 3
   },
   "file_extension": ".py",
   "mimetype": "text/x-python",
   "name": "python",
   "nbconvert_exporter": "python",
   "pygments_lexer": "ipython3",
   "version": "3.12.7"
  }
 },
 "nbformat": 4,
 "nbformat_minor": 5
}
